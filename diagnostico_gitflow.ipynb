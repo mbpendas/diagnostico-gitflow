{
 "cells": [
  {
   "cell_type": "code",
   "execution_count": 1,
   "id": "e7f966fc",
   "metadata": {},
   "outputs": [],
   "source": [
    "import re\n",
    "import json\n",
    "from collections import defaultdict\n",
    "from operator import itemgetter   "
   ]
  },
  {
   "cell_type": "code",
   "execution_count": 3,
   "id": "65ac2396",
   "metadata": {},
   "outputs": [],
   "source": [
    "def top_retweet(data):\n",
    "    lines = sorted(data, key=lambda k: k['retweetCount'], reverse=True)\n",
    "    top_10 = lines[0:10]\n",
    "    top_tweets = {}\n",
    "    for elem in top_10:\n",
    "        top_tweets[elem['content']]= elem['retweetCount']\n",
    "    print(\"Top 10 Retweets\\n\")\n",
    "    return(top_tweets) "
   ]
  },
  {
   "cell_type": "code",
   "execution_count": 6,
   "id": "6aaf5e11",
   "metadata": {},
   "outputs": [],
   "source": [
    "def top_users(data):\n",
    "    appearances = defaultdict(int)\n",
    "    for curr in data:\n",
    "        appearances[curr['user']['username']] += 1\n",
    "    top_10 = sorted(appearances.items(), key=itemgetter(1), reverse=True)[0:10]\n",
    "    print(\"Top 10 Users\\n\")\n",
    "    return(top_10)"
   ]
  },
  {
   "cell_type": "code",
   "execution_count": 5,
   "id": "7c7b202e",
   "metadata": {},
   "outputs": [],
   "source": [
    "def top_days(data):\n",
    "    appearances = defaultdict(int)\n",
    "    for curr in data:\n",
    "        day = curr['date'].split(\"T\")[0]\n",
    "        appearances[day] += 1\n",
    "    top_10 = sorted(appearances.items(), key=itemgetter(1), reverse=True)[0:10]\n",
    "    print(\"Top 10 Days\\n\")\n",
    "    return(top_10)"
   ]
  },
  {
   "cell_type": "code",
   "execution_count": 7,
   "id": "81b72574",
   "metadata": {},
   "outputs": [],
   "source": [
    "def top_hashtags(data):\n",
    "    appearances = defaultdict(int)\n",
    "    for curr in data:\n",
    "        tweet = curr['content']\n",
    "        regex = \"#(\\w+)\"\n",
    "        hashtag_list = re.findall(regex, tweet)\n",
    "        for elem in hashtag_list:\n",
    "            appearances[elem] += 1\n",
    "    top_10 = sorted(appearances.items(), key=itemgetter(1), reverse=True)[0:10]\n",
    "    print(\"Top 10 Hashtags\\n\")\n",
    "    return(top_10)"
   ]
  },
  {
   "cell_type": "code",
   "execution_count": 2,
   "id": "fc2877c2",
   "metadata": {},
   "outputs": [],
   "source": [
    "def main():  \n",
    "    data = []\n",
    "    for line in open('data/farmers-protest-tweets-2021-03-5.json', 'r'):\n",
    "        data.append(json.loads(line))\n",
    "    options = \"\"\"Select your function: \n",
    "        [1] Top 10 Retweets\n",
    "        [2] Top 10 Users\n",
    "        [3] Top 10 Days \n",
    "        [4] Top 10 Hashtags\"\"\"\n",
    "    functions = [top_retweet, top_users, top_days, top_hashtags]\n",
    "    choice = int(input(f\"{options}\\n> \"))\n",
    "    top_10 = functions[choice-1](data)\n",
    "    print(top_10)\n",
    "    \n",
    "    "
   ]
  },
  {
   "cell_type": "code",
   "execution_count": null,
   "id": "fc0be630",
   "metadata": {},
   "outputs": [],
   "source": [
    "main()"
   ]
  }
 ],
 "metadata": {
  "kernelspec": {
   "display_name": "Python 3.8.2 64-bit",
   "language": "python",
   "name": "python38264bitd20524fbfa1f49dc957bc3c47acddbea"
  },
  "language_info": {
   "codemirror_mode": {
    "name": "ipython",
    "version": 3
   },
   "file_extension": ".py",
   "mimetype": "text/x-python",
   "name": "python",
   "nbconvert_exporter": "python",
   "pygments_lexer": "ipython3",
   "version": "3.8.2"
  }
 },
 "nbformat": 4,
 "nbformat_minor": 5
}
